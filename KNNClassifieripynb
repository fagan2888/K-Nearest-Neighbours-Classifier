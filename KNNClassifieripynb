{
 "cells": [
  {
   "cell_type": "code",
   "execution_count": 164,
   "metadata": {
    "collapsed": true
   },
   "outputs": [],
   "source": [
    "import numpy as np \n",
    "from math import sqrt\n",
    "import warnings\n",
    "\n",
    "import matplotlib.pyplot as plt \n",
    "from matplotlib import style\n",
    "\n",
    "from collections import Counter\n",
    "import random\n",
    "import pandas as pd\n",
    "from sklearn.cross_validation import cross_val_score\n",
    "from sklearn.cross_validation import train_test_split\n",
    "from sklearn import preprocessing, cross_validation, neighbors"
   ]
  },
  {
   "cell_type": "code",
   "execution_count": 165,
   "metadata": {
    "collapsed": true
   },
   "outputs": [],
   "source": [
    "def load_input_data():\n",
    "    df = pd.read_csv(\"breastCancer.csv\")\n",
    "    df.replace (\"?\", -9999, inplace = True)\n",
    "    df.drop ([\"id\"], 1, inplace = True)\n",
    "    input_data = df.astype(float).values.tolist()\n",
    "    random.shuffle(input_data)\n",
    "\n",
    "    return input_data"
   ]
  },
  {
   "cell_type": "markdown",
   "metadata": {},
   "source": [
    "We first import the required dataset into the dataframe and drop the attribute \"id\" as it has no bearing on our algorithm. We also try to replace garbage values with \"?\". This would be the required preprocessing and data cleansing. "
   ]
  },
  {
   "cell_type": "code",
   "execution_count": 166,
   "metadata": {
    "collapsed": true
   },
   "outputs": [],
   "source": [
    "def KNearestNeighbors(input, reading, kvalue):\n",
    "    distances = []\n",
    "    for iterator in input:\n",
    "        for feature in input[iterator]:\n",
    "            EuclideanDistance = np.linalg.norm(np.array(feature) - np.array(reading))\n",
    "            distances.append([EuclideanDistance,iterator])\n",
    "        votes = [i[1] for i in sorted(distances)[:kvalue]]\n",
    "        votes_result = Counter(votes).most_common(1)[0][0]\n",
    "        confidence = Counter(votes).most_common(1)[0][1]/kvalue\n",
    "\n",
    "    return votes_result, confidence"
   ]
  },
  {
   "cell_type": "markdown",
   "metadata": {},
   "source": [
    "Now we need to write the predict method which must do the following: it needs to compute the euclidean distance between the “new” observation and all the data points in the training set. It must then select the K nearest ones and perform a majority vote. It then assigns the corresponding label to the observation. Let’s go ahead and write that.\n",
    "\n",
    "In the above code, we create an array of distances which we sort by increasing order. That way, we can grab the K nearest neighbors (first K distances), get their associated labels which we store in the targets array, and finally perform a majority vote using a Counter and also get the confidence on the vote."
   ]
  },
  {
   "cell_type": "code",
   "execution_count": 167,
   "metadata": {
    "collapsed": true
   },
   "outputs": [],
   "source": [
    "def test_train_KNN(k):\n",
    "    \n",
    "    full_data = load_input_data()\n",
    "    test_size = 0.2\n",
    "    train_set = {2: [], 4: []}  # Class: (2 for benign, 4 for malignant)\n",
    "    test_set = {2: [], 4: []}  # Class: (2 for benign, 4 for malignant)\n",
    "    train_data = full_data[:-int(test_size * len(full_data))]  # 80% of the data\n",
    "    test_data = full_data[-int(test_size * len(full_data)):]  # 20% of the data\n",
    "\n",
    "    for entry in train_data:\n",
    "        train_set[entry[-1]].append(entry[:-1])  \n",
    "    \n",
    "    for entry in test_data:\n",
    "        test_set[entry[-1]].append(entry[:-1])\n",
    "    \n",
    "    correct = 0\n",
    "    total = 0\n",
    "    for group in test_set:\n",
    "        for data in test_set[group]:\n",
    "            vote, confidence = KNearestNeighbors(train_set, data, k)\n",
    "            if group == vote:\n",
    "                correct += 1\n",
    "            total += 1\n",
    "    \n",
    "    Accuracy = correct / total\n",
    "    \n",
    "    return Accuracy\n",
    "    "
   ]
  },
  {
   "cell_type": "markdown",
   "metadata": {},
   "source": [
    "Putting it all together, we can define the function KNearestNeighbor, which loops over every test example and makes a prediction. In the above code, we do the basic test split and after experimentation I found that, 80% train data and 20% test sata to be the ideal split for the same. "
   ]
  },
  {
   "cell_type": "code",
   "execution_count": 171,
   "metadata": {
    "scrolled": true
   },
   "outputs": [
    {
     "data": {
      "image/png": "[encoded data removed]",
      "text/plain": [
       "<matplotlib.figure.Figure at 0x111707b70>"
      ]
     },
     "metadata": {},
     "output_type": "display_data"
    }
   ],
   "source": [
    "k_range = list(range(1,10))\n",
    "k_scores = []\n",
    "\n",
    "for k in k_range:\n",
    "    k_scores.append(test_train_KNN(k))\n",
    "\n",
    "plt.plot(k_range, k_scores)\n",
    "plt.xlabel('Value of K for KNN')\n",
    "plt.ylabel('Accuracy')\n",
    "plt.ticklabel_format(style='plain',axis='x',useOffset=False)\n",
    "plt.show()"
   ]
  },
  {
   "cell_type": "markdown",
   "metadata": {},
   "source": [
    "The above graph shows us the the accuracy for different values of K in the range of 1-20 points. "
   ]
  },
  {
   "cell_type": "code",
   "execution_count": 169,
   "metadata": {
    "collapsed": true
   },
   "outputs": [],
   "source": [
    "def scikitlearn_KNN():\n",
    "    df = pd.read_csv(\"breastCancer.csv\")\n",
    "    df.replace (\"?\", -9999, inplace = True)\n",
    "    df.drop ([\"id\"], 1, inplace = True)\n",
    "    input_data = df.astype(float).values.tolist()\n",
    "    random.shuffle(input_data)\n",
    "    \n",
    "    X = np.array(df.drop(['class'],1)) #creates features\n",
    "    y = np.array(df['class']) #creates labels\n",
    "\n",
    "    X_train, X_test, y_train, y_test = cross_validation.train_test_split(X,y,test_size=0.2)\n",
    "\n",
    "    clf = neighbors.KNeighborsClassifier()\n",
    "    clf.fit(X_train,y_train)\n",
    "\n",
    "    accuracy = clf.score(X_test,y_test)\n",
    "    print(accuracy)"
   ]
  },
  {
   "cell_type": "code",
   "execution_count": 170,
   "metadata": {},
   "outputs": [
    {
     "name": "stdout",
     "output_type": "stream",
     "text": [
      "0.971428571429\n"
     ]
    }
   ],
   "source": [
    "scikitlearn_KNN()"
   ]
  },
  {
   "cell_type": "raw",
   "metadata": {},
   "source": [
    "Here is a similar implmentation of KNN with cross validation using KNNClassifier in scikitlearn. So for k = 10 we find that k = 5 is the optimal solution"
   ]
  }
 ],
 "metadata": {
  "kernelspec": {
   "display_name": "Python 3",
   "language": "python",
   "name": "python3"
  },
  "language_info": {
   "codemirror_mode": {
    "name": "ipython",
    "version": 3
   },
   "file_extension": ".py",
   "mimetype": "text/x-python",
   "name": "python",
   "nbconvert_exporter": "python",
   "pygments_lexer": "ipython3",
   "version": "3.6.3"
  }
 },
 "nbformat": 4,
 "nbformat_minor": 2
}
